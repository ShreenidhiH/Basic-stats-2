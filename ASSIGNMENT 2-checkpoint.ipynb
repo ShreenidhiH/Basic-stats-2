{
 "cells": [
  {
   "cell_type": "code",
   "execution_count": 2,
   "id": "e1ff8205",
   "metadata": {},
   "outputs": [],
   "source": [
    "import pandas as pd\n",
    "import numpy as np\n",
    "import matplotlib.pyplot as plt\n",
    "import seaborn as sn"
   ]
  },
  {
   "cell_type": "markdown",
   "id": "e5fdce11",
   "metadata": {},
   "source": [
    "# Set-1"
   ]
  },
  {
   "cell_type": "markdown",
   "id": "29529fca",
   "metadata": {},
   "source": [
    "\n",
    "# Question 1"
   ]
  },
  {
   "cell_type": "code",
   "execution_count": 3,
   "id": "0e008aee",
   "metadata": {},
   "outputs": [],
   "source": [
    "d=[24.23,25.53,25.41,24.14,29.62,28.25,25.81,24.39,40.26,32.95,91.36,25.99,39.42,26.71,35.00]"
   ]
  },
  {
   "cell_type": "code",
   "execution_count": 4,
   "id": "038c3564",
   "metadata": {},
   "outputs": [],
   "source": [
    "d=pd.DataFrame(d)\n",
    "d.columns=[\"Measure X\"]"
   ]
  },
  {
   "cell_type": "code",
   "execution_count": 5,
   "id": "ad001d33",
   "metadata": {},
   "outputs": [
    {
     "data": {
      "text/plain": [
       "Text(0, 0.5, 'Measure x')"
      ]
     },
     "execution_count": 5,
     "metadata": {},
     "output_type": "execute_result"
    },
    {
     "data": {
      "image/png": "[encoded data removed]",
      "text/plain": [
       "<Figure size 432x288 with 1 Axes>"
      ]
     },
     "metadata": {
      "needs_background": "light"
     },
     "output_type": "display_data"
    }
   ],
   "source": [
    "plt.suptitle(\"Box plot\");\n",
    "plt.boxplot(d);\n",
    "plt.ylabel(\"Measure x\")"
   ]
  },
  {
   "cell_type": "markdown",
   "id": "61a84f7c",
   "metadata": {},
   "source": [
    "Measure x has an outlier = 90"
   ]
  },
  {
   "cell_type": "markdown",
   "id": "73e02a17",
   "metadata": {},
   "source": [
    "d.var()"
   ]
  },
  {
   "cell_type": "code",
   "execution_count": 6,
   "id": "da16dd33",
   "metadata": {},
   "outputs": [
    {
     "data": {
      "text/plain": [
       "Measure X    33.271333\n",
       "dtype: float64"
      ]
     },
     "execution_count": 6,
     "metadata": {},
     "output_type": "execute_result"
    }
   ],
   "source": [
    "# finding mean\n",
    "d.mean()"
   ]
  },
  {
   "cell_type": "code",
   "execution_count": 7,
   "id": "b159986f",
   "metadata": {},
   "outputs": [
    {
     "data": {
      "text/plain": [
       "Measure X    16.945401\n",
       "dtype: float64"
      ]
     },
     "execution_count": 7,
     "metadata": {},
     "output_type": "execute_result"
    }
   ],
   "source": [
    "# finding standard deviation\n",
    "d.std()"
   ]
  },
  {
   "cell_type": "code",
   "execution_count": 8,
   "id": "9b95fe4e",
   "metadata": {},
   "outputs": [
    {
     "data": {
      "text/plain": [
       "Measure X    287.146612\n",
       "dtype: float64"
      ]
     },
     "execution_count": 8,
     "metadata": {},
     "output_type": "execute_result"
    }
   ],
   "source": [
    "# finding variance\n",
    "d.var()"
   ]
  },
  {
   "cell_type": "markdown",
   "id": "065452e1",
   "metadata": {},
   "source": [
    "# Set-2"
   ]
  },
  {
   "cell_type": "code",
   "execution_count": 11,
   "id": "c3014a39",
   "metadata": {},
   "outputs": [],
   "source": [
    "from scipy import stats"
   ]
  },
  {
   "cell_type": "markdown",
   "id": "1cec688f",
   "metadata": {},
   "source": [
    "# Question 1"
   ]
  },
  {
   "cell_type": "code",
   "execution_count": 12,
   "id": "5d68c4f7",
   "metadata": {},
   "outputs": [
    {
     "data": {
      "text/plain": [
       "0.26599"
      ]
     },
     "execution_count": 12,
     "metadata": {},
     "output_type": "execute_result"
    }
   ],
   "source": [
    "# The probability that the service manager cannot meet his commitment is <50\n",
    "np.round(1-stats.norm.cdf(50,45,8),5)"
   ]
  },
  {
   "cell_type": "markdown",
   "id": "2ce26322",
   "metadata": {},
   "source": [
    "# Question 2"
   ]
  },
  {
   "cell_type": "code",
   "execution_count": 13,
   "id": "4ed1657d",
   "metadata": {},
   "outputs": [
    {
     "data": {
      "text/plain": [
       "0.15866"
      ]
     },
     "execution_count": 13,
     "metadata": {},
     "output_type": "execute_result"
    }
   ],
   "source": [
    "# probability employees at the processing center are older than 44\n",
    "np.round(1-stats.norm.cdf(44,38,6),5)"
   ]
  },
  {
   "cell_type": "code",
   "execution_count": 14,
   "id": "ad465d38",
   "metadata": {},
   "outputs": [
    {
     "data": {
      "text/plain": [
       "0.34134"
      ]
     },
     "execution_count": 14,
     "metadata": {},
     "output_type": "execute_result"
    }
   ],
   "source": [
    "# the probability employees at the processing center are between 38 and 44\n",
    "np.round(stats.norm.cdf(44,38,6)-stats.norm.cdf(38,38,6),5)"
   ]
  },
  {
   "cell_type": "code",
   "execution_count": 15,
   "id": "c755be20",
   "metadata": {},
   "outputs": [
    {
     "data": {
      "text/plain": [
       "36.480000000000004"
      ]
     },
     "execution_count": 15,
     "metadata": {},
     "output_type": "execute_result"
    }
   ],
   "source": [
    "# The number of employees under the age 30\n",
    "400*(np.round(stats.norm.cdf(30,38,6),4))"
   ]
  },
  {
   "cell_type": "markdown",
   "id": "09d31f7a",
   "metadata": {},
   "source": [
    "# Question 4"
   ]
  },
  {
   "cell_type": "code",
   "execution_count": 15,
   "id": "52227b34",
   "metadata": {},
   "outputs": [
    {
     "data": {
      "text/plain": [
       "(48.48341392902199, 151.516586070978)"
      ]
     },
     "execution_count": 15,
     "metadata": {},
     "output_type": "execute_result"
    }
   ],
   "source": [
    "# the random variable taking a value between them is 0.99\n",
    "stats.norm.interval(0.99,100,20)"
   ]
  },
  {
   "cell_type": "markdown",
   "id": "01654143",
   "metadata": {},
   "source": [
    "# Question 5 a"
   ]
  },
  {
   "cell_type": "code",
   "execution_count": 16,
   "id": "f69fe786",
   "metadata": {},
   "outputs": [
    {
     "data": {
      "text/plain": [
       "(219.12010804637984, 230.87989195362016)"
      ]
     },
     "execution_count": 16,
     "metadata": {},
     "output_type": "execute_result"
    }
   ],
   "source": [
    "# 95% probability for the annual profit of the company from first division.\n",
    "x=stats.norm.interval(0.95,45*5,3)\n",
    "x"
   ]
  },
  {
   "cell_type": "code",
   "execution_count": 17,
   "id": "fe0beb9d",
   "metadata": {},
   "outputs": [
    {
     "data": {
      "text/plain": [
       "(307.1601440618398, 322.8398559381602)"
      ]
     },
     "execution_count": 17,
     "metadata": {},
     "output_type": "execute_result"
    }
   ],
   "source": [
    "# 95% probability for the annual profit of the company from second division.\n",
    "y=stats.norm.interval(0.95,45*7,4)\n",
    "y"
   ]
  },
  {
   "cell_type": "code",
   "execution_count": 18,
   "id": "f0a9e8c5",
   "metadata": {},
   "outputs": [
    {
     "data": {
      "text/plain": [
       "(526.2802521082197, 553.7197478917803)"
      ]
     },
     "execution_count": 18,
     "metadata": {},
     "output_type": "execute_result"
    }
   ],
   "source": [
    "# Total profit of the company.\n",
    "(x[0]+y[0],x[1]+y[1])"
   ]
  },
  {
   "cell_type": "markdown",
   "id": "55b48d25",
   "metadata": {},
   "source": [
    "# Question 5 c"
   ]
  },
  {
   "cell_type": "code",
   "execution_count": 66,
   "id": "bfda5e97",
   "metadata": {},
   "outputs": [
    {
     "data": {
      "text/plain": [
       "0.04779"
      ]
     },
     "execution_count": 66,
     "metadata": {},
     "output_type": "execute_result"
    }
   ],
   "source": [
    "# The probability of making a loss in a given year by 1st division \n",
    "np.round(stats.norm.cdf(0,5,3),5)"
   ]
  },
  {
   "cell_type": "code",
   "execution_count": 71,
   "id": "04b62d85",
   "metadata": {},
   "outputs": [
    {
     "data": {
      "text/plain": [
       "0.04006"
      ]
     },
     "execution_count": 71,
     "metadata": {},
     "output_type": "execute_result"
    }
   ],
   "source": [
    "# The probability of making a loss in a given year by 2nd division \n",
    "np.round(stats.norm.cdf(0,7,4),5)"
   ]
  },
  {
   "cell_type": "code",
   "execution_count": 21,
   "id": "e898f0be",
   "metadata": {},
   "outputs": [],
   "source": [
    "a=stats.norm.cdf(0.05)"
   ]
  },
  {
   "cell_type": "code",
   "execution_count": 22,
   "id": "9876427d",
   "metadata": {},
   "outputs": [
    {
     "data": {
      "text/plain": [
       "23.39724626272676"
      ]
     },
     "execution_count": 22,
     "metadata": {},
     "output_type": "execute_result"
    }
   ],
   "source": [
    "a*45"
   ]
  },
  {
   "cell_type": "markdown",
   "id": "b7b6c0e0",
   "metadata": {},
   "source": [
    "# Set-4"
   ]
  },
  {
   "cell_type": "code",
   "execution_count": 24,
   "id": "a74be697",
   "metadata": {},
   "outputs": [
    {
     "data": {
      "text/plain": [
       "(-0.8798919536201621, 10.879891953620163)"
      ]
     },
     "execution_count": 24,
     "metadata": {},
     "output_type": "execute_result"
    }
   ],
   "source": [
    "stats.norm.interval(0.95,5,3)"
   ]
  },
  {
   "cell_type": "code",
   "execution_count": 25,
   "id": "36012d04",
   "metadata": {},
   "outputs": [
    {
     "data": {
      "text/plain": [
       "2636.177867450875"
      ]
     },
     "execution_count": 25,
     "metadata": {},
     "output_type": "execute_result"
    }
   ],
   "source": [
    "(stats.norm.ppf(0.02)/0.04)**2"
   ]
  },
  {
   "cell_type": "code",
   "execution_count": 26,
   "id": "ee6d910a",
   "metadata": {},
   "outputs": [
    {
     "data": {
      "text/plain": [
       "1036.7025939095645"
      ]
     },
     "execution_count": 26,
     "metadata": {},
     "output_type": "execute_result"
    }
   ],
   "source": [
    "(stats.norm.ppf(0.995)*(0.5)/0.04)**2"
   ]
  },
  {
   "cell_type": "code",
   "execution_count": 27,
   "id": "2ba28db7",
   "metadata": {},
   "outputs": [
    {
     "data": {
      "text/plain": [
       "0.9005235503397742"
      ]
     },
     "execution_count": 27,
     "metadata": {},
     "output_type": "execute_result"
    }
   ],
   "source": [
    "1-(stats.norm.cdf(55,50,40)-stats.norm.cdf(45,50,40))"
   ]
  },
  {
   "cell_type": "code",
   "execution_count": 28,
   "id": "88c72e44",
   "metadata": {},
   "outputs": [
    {
     "data": {
      "text/plain": [
       "0.09947644966022584"
      ]
     },
     "execution_count": 28,
     "metadata": {},
     "output_type": "execute_result"
    }
   ],
   "source": [
    "stats.norm.cdf(55,50,40)-stats.norm.cdf(45,50,40)"
   ]
  },
  {
   "cell_type": "code",
   "execution_count": 2,
   "id": "6375bb7b",
   "metadata": {},
   "outputs": [],
   "source": [
    "b=[-2000,-1000,0,1000,2000,3000]"
   ]
  },
  {
   "cell_type": "code",
   "execution_count": 3,
   "id": "d8ee5d55",
   "metadata": {},
   "outputs": [],
   "source": [
    "a=pd.DataFrame(b)"
   ]
  },
  {
   "cell_type": "code",
   "execution_count": 4,
   "id": "43e2862a",
   "metadata": {},
   "outputs": [],
   "source": [
    "a.columns=[\"data\"]"
   ]
  },
  {
   "cell_type": "code",
   "execution_count": 5,
   "id": "6a41c6b7",
   "metadata": {},
   "outputs": [
    {
     "data": {
      "text/plain": [
       "data    3500000.0\n",
       "dtype: float64"
      ]
     },
     "execution_count": 5,
     "metadata": {},
     "output_type": "execute_result"
    }
   ],
   "source": [
    "a.var()"
   ]
  },
  {
   "cell_type": "code",
   "execution_count": 50,
   "id": "bad1be50",
   "metadata": {},
   "outputs": [
    {
     "data": {
      "text/plain": [
       "500.0"
      ]
     },
     "execution_count": 50,
     "metadata": {},
     "output_type": "execute_result"
    }
   ],
   "source": [
    "np.mean(b)"
   ]
  },
  {
   "cell_type": "markdown",
   "id": "44b95bc7",
   "metadata": {},
   "source": [
    "a.mean()"
   ]
  },
  {
   "cell_type": "code",
   "execution_count": 51,
   "id": "43b2afe1",
   "metadata": {},
   "outputs": [
    {
     "data": {
      "text/plain": [
       "data    500.0\n",
       "dtype: float64"
      ]
     },
     "execution_count": 51,
     "metadata": {},
     "output_type": "execute_result"
    }
   ],
   "source": [
    "a.mean()"
   ]
  },
  {
   "cell_type": "code",
   "execution_count": 7,
   "id": "7b6476db",
   "metadata": {},
   "outputs": [
    {
     "data": {
      "text/plain": [
       "data    3500000.0\n",
       "dtype: float64"
      ]
     },
     "execution_count": 7,
     "metadata": {},
     "output_type": "execute_result"
    }
   ],
   "source": [
    "a.var()"
   ]
  },
  {
   "cell_type": "code",
   "execution_count": 59,
   "id": "1695bbe7",
   "metadata": {},
   "outputs": [
    {
     "data": {
      "text/plain": [
       "data    1870.828693\n",
       "dtype: float64"
      ]
     },
     "execution_count": 59,
     "metadata": {},
     "output_type": "execute_result"
    }
   ],
   "source": [
    "a.std()"
   ]
  },
  {
   "cell_type": "code",
   "execution_count": 8,
   "id": "de34b015",
   "metadata": {},
   "outputs": [
    {
     "data": {
      "text/plain": [
       "data    2.916667e+06\n",
       "dtype: float64"
      ]
     },
     "execution_count": 8,
     "metadata": {},
     "output_type": "execute_result"
    }
   ],
   "source": [
    "np.var(a)"
   ]
  },
  {
   "cell_type": "code",
   "execution_count": 9,
   "id": "75b2f83d",
   "metadata": {},
   "outputs": [
    {
     "data": {
      "text/html": [
       "<div>\n",
       "<style scoped>\n",
       "    .dataframe tbody tr th:only-of-type {\n",
       "        vertical-align: middle;\n",
       "    }\n",
       "\n",
       "    .dataframe tbody tr th {\n",
       "        vertical-align: top;\n",
       "    }\n",
       "\n",
       "    .dataframe thead th {\n",
       "        text-align: right;\n",
       "    }\n",
       "</style>\n",
       "<table border=\"1\" class=\"dataframe\">\n",
       "  <thead>\n",
       "    <tr style=\"text-align: right;\">\n",
       "      <th></th>\n",
       "      <th>data</th>\n",
       "    </tr>\n",
       "  </thead>\n",
       "  <tbody>\n",
       "    <tr>\n",
       "      <th>0</th>\n",
       "      <td>-2000</td>\n",
       "    </tr>\n",
       "    <tr>\n",
       "      <th>1</th>\n",
       "      <td>-1000</td>\n",
       "    </tr>\n",
       "    <tr>\n",
       "      <th>2</th>\n",
       "      <td>0</td>\n",
       "    </tr>\n",
       "    <tr>\n",
       "      <th>3</th>\n",
       "      <td>1000</td>\n",
       "    </tr>\n",
       "    <tr>\n",
       "      <th>4</th>\n",
       "      <td>2000</td>\n",
       "    </tr>\n",
       "    <tr>\n",
       "      <th>5</th>\n",
       "      <td>3000</td>\n",
       "    </tr>\n",
       "  </tbody>\n",
       "</table>\n",
       "</div>"
      ],
      "text/plain": [
       "   data\n",
       "0 -2000\n",
       "1 -1000\n",
       "2     0\n",
       "3  1000\n",
       "4  2000\n",
       "5  3000"
      ]
     },
     "execution_count": 9,
     "metadata": {},
     "output_type": "execute_result"
    }
   ],
   "source": [
    "a"
   ]
  },
  {
   "cell_type": "code",
   "execution_count": 11,
   "id": "1b770d91",
   "metadata": {},
   "outputs": [
    {
     "data": {
      "text/plain": [
       "data    3500000.0\n",
       "dtype: float64"
      ]
     },
     "execution_count": 11,
     "metadata": {},
     "output_type": "execute_result"
    }
   ],
   "source": [
    "a.var()"
   ]
  },
  {
   "cell_type": "code",
   "execution_count": 12,
   "id": "e60ebfcf",
   "metadata": {},
   "outputs": [
    {
     "data": {
      "text/plain": [
       "data    2.916667e+06\n",
       "dtype: float64"
      ]
     },
     "execution_count": 12,
     "metadata": {},
     "output_type": "execute_result"
    }
   ],
   "source": [
    "np.var(a)"
   ]
  },
  {
   "cell_type": "code",
   "execution_count": null,
   "id": "66e102d3",
   "metadata": {},
   "outputs": [],
   "source": []
  }
 ],
 "metadata": {
  "kernelspec": {
   "display_name": "Python 3 (ipykernel)",
   "language": "python",
   "name": "python3"
  },
  "language_info": {
   "codemirror_mode": {
    "name": "ipython",
    "version": 3
   },
   "file_extension": ".py",
   "mimetype": "text/x-python",
   "name": "python",
   "nbconvert_exporter": "python",
   "pygments_lexer": "ipython3",
   "version": "3.9.7"
  }
 },
 "nbformat": 4,
 "nbformat_minor": 5
}
